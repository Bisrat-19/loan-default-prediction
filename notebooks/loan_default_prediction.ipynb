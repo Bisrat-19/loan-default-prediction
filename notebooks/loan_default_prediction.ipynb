{
 "cells": [
  {
   "cell_type": "code",
   "execution_count": 14,
   "id": "86834047-82dc-4d03-9bcd-084e4a801ed4",
   "metadata": {},
   "outputs": [
    {
     "name": "stdout",
     "output_type": "stream",
     "text": [
      "Accuracy: 0.8869\n",
      "Precision: 0.6548\n",
      "Recall: 0.0437\n",
      "F1_score: 0.0820\n",
      "Roc_auc: 0.5204\n"
     ]
    },
    {
     "data": {
      "image/png": "[encoded data removed]",
      "text/plain": [
       "<Figure size 1000x600 with 1 Axes>"
      ]
     },
     "metadata": {},
     "output_type": "display_data"
    }
   ],
   "source": [
    "import pandas as pd\n",
    "import matplotlib.pyplot as plt\n",
    "import seaborn as sns\n",
    "from src.preprocessing import preprocess_data\n",
    "from src.model import train_model, save_model, predict\n",
    "from src.evaluation import evaluate_model, print_metrics\n",
    "\n",
    "# Load and preprocess data\n",
    "file_path = '../data/loan_data.csv'\n",
    "X_train, X_test, y_train, y_test, scaler = preprocess_data(file_path, target_column='Default')\n",
    "\n",
    "# Train model\n",
    "model = train_model(X_train, y_train)\n",
    "\n",
    "# Save model\n",
    "save_model(model, 'model.pkl')\n",
    "\n",
    "# Make predictions\n",
    "y_pred = predict(model, X_test)\n",
    "\n",
    "# Evaluate model\n",
    "metrics = evaluate_model(y_test, y_pred)\n",
    "print_metrics(metrics)\n",
    "\n",
    "# Visualize evaluation metrics\n",
    "plt.figure(figsize=(10, 6))\n",
    "sns.barplot(x=list(metrics.keys()), y=list(metrics.values()))\n",
    "plt.title('Model Evaluation Metrics')\n",
    "plt.ylabel('Score')\n",
    "plt.xticks(rotation=45)\n",
    "plt.tight_layout()\n",
    "plt.show()"
   ]
  },
  {
   "cell_type": "code",
   "execution_count": 16,
   "id": "1cd86358",
   "metadata": {},
   "outputs": [
    {
     "name": "stdout",
     "output_type": "stream",
     "text": [
      "\n",
      "Sample Predictions vs Actual Labels:\n",
      "Sample 0: Predicted: Not Default, Actual: Not Default\n",
      "Sample 1: Predicted: Not Default, Actual: Not Default\n",
      "Sample 2: Predicted: Not Default, Actual: Not Default\n",
      "Sample 3: Predicted: Not Default, Actual: Not Default\n",
      "Sample 4: Predicted: Not Default, Actual: Not Default\n",
      "Sample 5: Predicted: Not Default, Actual: Not Default\n",
      "Sample 6: Predicted: Not Default, Actual: Not Default\n",
      "Sample 7: Predicted: Not Default, Actual: Not Default\n",
      "Sample 8: Predicted: Not Default, Actual: Not Default\n",
      "Sample 9: Predicted: Not Default, Actual: Not Default\n"
     ]
    }
   ],
   "source": [
    "# Add this after y_pred = predict(model, X_test)\n",
    "print(\"\\nSample Predictions vs Actual Labels:\")\n",
    "for i in range(min(10, len(y_test))):  # Show up to 10 samples\n",
    "    pred = \"Default\" if y_pred[i] == 1 else \"Not Default\"\n",
    "    actual = \"Default\" if y_test.iloc[i] == 1 else \"Not Default\"\n",
    "    print(f\"Sample {i}: Predicted: {pred}, Actual: {actual}\")"
   ]
  },
  {
   "cell_type": "code",
   "execution_count": 17,
   "id": "9a282485-44d3-4f1e-ae43-d91b47d68d05",
   "metadata": {},
   "outputs": [
    {
     "name": "stdout",
     "output_type": "stream",
     "text": [
      "\n",
      "All Predictions vs Actual Labels:\n",
      "        Predicted  Actual\n",
      "51139           0       0\n",
      "71005           0       0\n",
      "35684           0       0\n",
      "174087          0       0\n",
      "137952          0       0\n",
      "...           ...     ...\n",
      "35991           0       0\n",
      "69680           0       0\n",
      "184743          0       0\n",
      "209406          0       0\n",
      "123164          0       0\n",
      "\n",
      "[51070 rows x 2 columns]\n"
     ]
    }
   ],
   "source": [
    "print(\"\\nAll Predictions vs Actual Labels:\")\n",
    "results = pd.DataFrame({'Predicted': y_pred, 'Actual': y_test})\n",
    "print(results)"
   ]
  },
  {
   "cell_type": "code",
   "execution_count": 18,
   "id": "cdcc574e-bd30-4c3b-acc3-7f7737d84bbc",
   "metadata": {},
   "outputs": [
    {
     "name": "stdout",
     "output_type": "stream",
     "text": [
      "\n",
      "Loans Predicted as Default:\n",
      "        Predicted  Actual\n",
      "201544          1       1\n",
      "122127          1       0\n",
      "62043           1       1\n",
      "150312          1       1\n",
      "167048          1       0\n",
      "...           ...     ...\n",
      "92984           1       1\n",
      "206534          1       0\n",
      "215228          1       1\n",
      "225429          1       0\n",
      "230663          1       1\n",
      "\n",
      "[394 rows x 2 columns]\n"
     ]
    }
   ],
   "source": [
    "print(\"\\nLoans Predicted as Default:\")\n",
    "default_preds = pd.DataFrame({'Predicted': y_pred, 'Actual': y_test})[y_pred == 1]\n",
    "print(default_preds)"
   ]
  },
  {
   "cell_type": "code",
   "execution_count": null,
   "id": "b70b4f21",
   "metadata": {},
   "outputs": [],
   "source": []
  },
  {
   "cell_type": "code",
   "execution_count": 19,
   "id": "55800ae9-4d01-4e5f-a125-40d5ce6374aa",
   "metadata": {},
   "outputs": [
    {
     "name": "stdout",
     "output_type": "stream",
     "text": [
      "Unique values in Default column: [0 1]\n"
     ]
    }
   ],
   "source": [
    "df = pd.read_csv('../data/loan_data.csv')\n",
    "print(\"Unique values in Default column:\", df['Default'].unique())"
   ]
  },
  {
   "cell_type": "code",
   "execution_count": 21,
   "id": "6c400cf2-5716-4cee-be0d-2e4b93b3a461",
   "metadata": {},
   "outputs": [
    {
     "name": "stdout",
     "output_type": "stream",
     "text": [
      "Unique values in Default column: [0 1]\n",
      "Default column value counts:\n",
      " Default\n",
      "0    225694\n",
      "1     29653\n",
      "Name: count, dtype: int64\n",
      "Accuracy: 0.8869\n",
      "Precision: 0.6548\n",
      "Recall: 0.0437\n",
      "F1_score: 0.0820\n",
      "Roc_auc: 0.5204\n",
      "\n",
      "Sample Predictions vs Actual Labels:\n",
      "Sample 0: Predicted: Not Default, Actual: Not Default\n",
      "Sample 1: Predicted: Not Default, Actual: Not Default\n",
      "Sample 2: Predicted: Not Default, Actual: Not Default\n",
      "Sample 3: Predicted: Not Default, Actual: Not Default\n",
      "Sample 4: Predicted: Not Default, Actual: Not Default\n",
      "Sample 5: Predicted: Not Default, Actual: Not Default\n",
      "Sample 6: Predicted: Not Default, Actual: Not Default\n",
      "Sample 7: Predicted: Not Default, Actual: Not Default\n",
      "Sample 8: Predicted: Not Default, Actual: Not Default\n",
      "Sample 9: Predicted: Not Default, Actual: Not Default\n",
      "\n",
      "Loans Predicted as Default:\n",
      "        Predicted  Actual\n",
      "201544          1       1\n",
      "122127          1       0\n",
      "62043           1       1\n",
      "150312          1       1\n",
      "167048          1       0\n",
      "...           ...     ...\n",
      "92984           1       1\n",
      "206534          1       0\n",
      "215228          1       1\n",
      "225429          1       0\n",
      "230663          1       1\n",
      "\n",
      "[394 rows x 2 columns]\n"
     ]
    }
   ],
   "source": [
    "import pandas as pd\n",
    "import matplotlib.pyplot as plt\n",
    "import seaborn as sns\n",
    "from src.preprocessing import preprocess_data\n",
    "from src.model import train_model, save_model, predict\n",
    "from src.evaluation import evaluate_model, print_metrics\n",
    "\n",
    "# Check unique values and distribution\n",
    "df = pd.read_csv('../data/loan_data.csv')\n",
    "print(\"Unique values in Default column:\", df['Default'].unique())\n",
    "print(\"Default column value counts:\\n\", df['Default'].value_counts())\n",
    "\n",
    "# Load and preprocess data\n",
    "file_path = '../data/loan_data.csv'\n",
    "X_train, X_test, y_train, y_test, scaler = preprocess_data(file_path, target_column='Default')\n",
    "\n",
    "# Train model\n",
    "model = train_model(X_train, y_train)\n",
    "\n",
    "# Save model\n",
    "save_model(model, 'model.pkl')\n",
    "\n",
    "# Make predictions\n",
    "y_pred = predict(model, X_test)\n",
    "\n",
    "# Evaluate model\n",
    "metrics = evaluate_model(y_test, y_pred)\n",
    "print_metrics(metrics)\n",
    "\n",
    "# Check all predictions\n",
    "print(\"\\nSample Predictions vs Actual Labels:\")\n",
    "for i in range(min(10, len(y_test))):\n",
    "    pred = \"Default\" if y_pred[i] == 1 else \"Not Default\"\n",
    "    actual = \"Default\" if y_test.iloc[i] == 1 else \"Not Default\"\n",
    "    print(f\"Sample {i}: Predicted: {pred}, Actual: {actual}\")\n",
    "\n",
    "# Check loans predicted as default\n",
    "print(\"\\nLoans Predicted as Default:\")\n",
    "default_preds = pd.DataFrame({'Predicted': y_pred, 'Actual': y_test})[y_pred == 1]\n",
    "print(default_preds)"
   ]
  },
  {
   "cell_type": "code",
   "execution_count": null,
   "id": "0458d4c0-face-4ca8-8a16-dbff14bce52a",
   "metadata": {},
   "outputs": [],
   "source": []
  }
 ],
 "metadata": {
  "kernelspec": {
   "display_name": ".venv",
   "language": "python",
   "name": "python3"
  },
  "language_info": {
   "codemirror_mode": {
    "name": "ipython",
    "version": 3
   },
   "file_extension": ".py",
   "mimetype": "text/x-python",
   "name": "python",
   "nbconvert_exporter": "python",
   "pygments_lexer": "ipython3",
   "version": "3.13.5"
  }
 },
 "nbformat": 4,
 "nbformat_minor": 5
}
